{
 "cells": [
  {
   "cell_type": "code",
   "id": "initial_id",
   "metadata": {
    "collapsed": true,
    "ExecuteTime": {
     "end_time": "2025-01-02T16:36:37.303834Z",
     "start_time": "2025-01-02T16:36:36.965389Z"
    }
   },
   "source": [
    "import torch\n",
    "import torch.nn as nn\n",
    "import torchvision.models as models\n",
    "\n",
    "from src.networks import DoubleConv\n"
   ],
   "outputs": [],
   "execution_count": 16
  },
  {
   "metadata": {
    "ExecuteTime": {
     "end_time": "2025-01-02T17:27:54.146860Z",
     "start_time": "2025-01-02T17:27:54.137816Z"
    }
   },
   "cell_type": "code",
   "source": [
    "class DenseNet121UNet(nn.Module):\n",
    "    def __init__(self, n_channels: int = 3, init_features: int = 64):\n",
    "        super(DenseNet121UNet, self).__init__()\n",
    "        self.densenet = models.densenet121(pretrained=True)\n",
    "\n",
    "        self.center = DoubleConv(init_features * 16, init_features * 8)\n",
    "\n",
    "        # Decoder (Expanding Path)\n",
    "        self.up4 = nn.ConvTranspose2d(init_features * 16, init_features * 8, kernel_size=2,\n",
    "                                      stride=2)\n",
    "        self.dec4 = DoubleConv(init_features * 16, init_features * 8)\n",
    "\n",
    "        self.up3 = nn.ConvTranspose2d(init_features * 8, init_features * 4, kernel_size=2, stride=2)\n",
    "        self.dec3 = DoubleConv(init_features * 8, init_features * 4)\n",
    "\n",
    "        self.up2 = nn.ConvTranspose2d(init_features * 4, init_features * 2, kernel_size=2, stride=2)\n",
    "        self.dec2 = DoubleConv(init_features * 4, init_features * 2)\n",
    "\n",
    "        self.up1 = nn.ConvTranspose2d(init_features * 2, init_features, kernel_size=2, stride=2)\n",
    "        self.dec1 = DoubleConv(init_features * 2, init_features)\n",
    "\n",
    "        self.final_conv = nn.Conv2d(init_features, 3, kernel_size=1)\n",
    "\n",
    "        self.pool = nn.MaxPool2d(2)\n",
    "\n",
    "    def forward(self, input: torch.Tensor) -> torch.Tensor:\n",
    "\n",
    "        x = self.densenet.features.conv0(input)\n",
    "        x = self.densenet.features.norm0(x)\n",
    "        enc1 = self.densenet.features.relu0(x) # torch.Size([16, 64, 128, 128])\n",
    "        pool1 = self.densenet.features.pool0(enc1)\n",
    "\n",
    "        print(f\"enc1: {enc1.shape}\")\n",
    "        print(f\"pool1: {pool1.shape}\")\n",
    "\n",
    "        x = self.densenet.features.denseblock1(pool1)\n",
    "        enc2 = x  # torch.Size([16, 256, 64, 64])\n",
    "        pool2 = self.densenet.features.transition1(enc2)\n",
    "\n",
    "        print(f\"enc2: {enc2.shape}\")\n",
    "        print(f\"pool2: {pool2.shape}\")\n",
    "\n",
    "        x = self.densenet.features.denseblock2(pool2)\n",
    "        enc3 = x  # torch.Size([16, 512, 32, 32])\n",
    "        pool3 = self.densenet.features.transition2(enc3)\n",
    "\n",
    "        print(f\"enc3: {enc3.shape}\")\n",
    "        print(f\"pool3: {pool3.shape}\")\n",
    "\n",
    "        x = self.densenet.features.denseblock3(pool3)\n",
    "        enc4 = x  # torch.Size([16, 1024, 16, 16])\n",
    "        pool4 = self.densenet.features.transition3(enc4)\n",
    "\n",
    "        print(f\"enc4: {enc4.shape}\")\n",
    "        print(f\"pool4: {pool4.shape}\")\n",
    "\n",
    "        x = self.densenet.features.denseblock4(pool4)\n",
    "        enc5 = x  # torch.Size([16, 1024, 8, 8])\n",
    "\n",
    "        print(f\"enc5: {enc5.shape}\")\n",
    "\n",
    "        # Decoder\n",
    "        up4 = self.up4(enc5)\n",
    "        up4 - torch.functional.inperpolate(up4, )\n",
    "        concat4 = torch.cat([enc4, up4], dim=1)\n",
    "\n",
    "        print(f\"up4: {up4.shape}\")\n",
    "        print(f\"concat4: {concat4.shape}\")\n",
    "\n",
    "        dec4 = self.dec4(concat4)\n",
    "\n",
    "        up3 = self.up3(dec4)\n",
    "        concat3 = torch.cat([enc3, up3], dim=1)\n",
    "        dec3 = self.dec3(concat3)\n",
    "\n",
    "        up2 = self.up2(dec3)\n",
    "        concat2 = torch.cat([enc2, up2], dim=1)\n",
    "        dec2 = self.dec2(concat2)\n",
    "\n",
    "        up1 = self.up1(dec2)\n",
    "        concat1 = torch.cat([enc1, up1], dim=1)\n",
    "        dec1 = self.dec1(concat1)\n",
    "\n",
    "        return nn.functional.tanh(self.final_conv(dec1))"
   ],
   "id": "585198951e251133",
   "outputs": [],
   "execution_count": 30
  },
  {
   "metadata": {
    "ExecuteTime": {
     "end_time": "2025-01-02T17:27:55.063418Z",
     "start_time": "2025-01-02T17:27:54.792649Z"
    }
   },
   "cell_type": "code",
   "source": [
    "model = DenseNet121UNet()\n",
    "input = torch.randn(1, 3, 256, 256)\n",
    "output = model(input)\n",
    "\n",
    "print(output.shape)"
   ],
   "id": "14e85e01f7cab9b1",
   "outputs": [
    {
     "name": "stdout",
     "output_type": "stream",
     "text": [
      "enc1: torch.Size([1, 64, 128, 128])\n",
      "pool1: torch.Size([1, 64, 64, 64])\n",
      "enc2: torch.Size([1, 256, 64, 64])\n",
      "pool2: torch.Size([1, 128, 32, 32])\n",
      "enc3: torch.Size([1, 512, 32, 32])\n",
      "pool3: torch.Size([1, 256, 16, 16])\n",
      "enc4: torch.Size([1, 1024, 16, 16])\n",
      "pool4: torch.Size([1, 512, 8, 8])\n",
      "enc5: torch.Size([1, 1024, 8, 8])\n",
      "up4: torch.Size([1, 512, 16, 16])\n",
      "concat4: torch.Size([1, 1536, 16, 16])\n"
     ]
    },
    {
     "ename": "RuntimeError",
     "evalue": "Given groups=1, weight of size [512, 1024, 3, 3], expected input[1, 1536, 16, 16] to have 1024 channels, but got 1536 channels instead",
     "output_type": "error",
     "traceback": [
      "\u001B[0;31m---------------------------------------------------------------------------\u001B[0m",
      "\u001B[0;31mRuntimeError\u001B[0m                              Traceback (most recent call last)",
      "Cell \u001B[0;32mIn[31], line 3\u001B[0m\n\u001B[1;32m      1\u001B[0m model \u001B[38;5;241m=\u001B[39m DenseNet121UNet()\n\u001B[1;32m      2\u001B[0m \u001B[38;5;28minput\u001B[39m \u001B[38;5;241m=\u001B[39m torch\u001B[38;5;241m.\u001B[39mrandn(\u001B[38;5;241m1\u001B[39m, \u001B[38;5;241m3\u001B[39m, \u001B[38;5;241m256\u001B[39m, \u001B[38;5;241m256\u001B[39m)\n\u001B[0;32m----> 3\u001B[0m output \u001B[38;5;241m=\u001B[39m \u001B[43mmodel\u001B[49m\u001B[43m(\u001B[49m\u001B[38;5;28;43minput\u001B[39;49m\u001B[43m)\u001B[49m\n\u001B[1;32m      5\u001B[0m \u001B[38;5;28mprint\u001B[39m(output\u001B[38;5;241m.\u001B[39mshape)\n",
      "File \u001B[0;32m~/Ai/lib/python3.12/site-packages/torch/nn/modules/module.py:1736\u001B[0m, in \u001B[0;36mModule._wrapped_call_impl\u001B[0;34m(self, *args, **kwargs)\u001B[0m\n\u001B[1;32m   1734\u001B[0m     \u001B[38;5;28;01mreturn\u001B[39;00m \u001B[38;5;28mself\u001B[39m\u001B[38;5;241m.\u001B[39m_compiled_call_impl(\u001B[38;5;241m*\u001B[39margs, \u001B[38;5;241m*\u001B[39m\u001B[38;5;241m*\u001B[39mkwargs)  \u001B[38;5;66;03m# type: ignore[misc]\u001B[39;00m\n\u001B[1;32m   1735\u001B[0m \u001B[38;5;28;01melse\u001B[39;00m:\n\u001B[0;32m-> 1736\u001B[0m     \u001B[38;5;28;01mreturn\u001B[39;00m \u001B[38;5;28;43mself\u001B[39;49m\u001B[38;5;241;43m.\u001B[39;49m\u001B[43m_call_impl\u001B[49m\u001B[43m(\u001B[49m\u001B[38;5;241;43m*\u001B[39;49m\u001B[43margs\u001B[49m\u001B[43m,\u001B[49m\u001B[43m \u001B[49m\u001B[38;5;241;43m*\u001B[39;49m\u001B[38;5;241;43m*\u001B[39;49m\u001B[43mkwargs\u001B[49m\u001B[43m)\u001B[49m\n",
      "File \u001B[0;32m~/Ai/lib/python3.12/site-packages/torch/nn/modules/module.py:1747\u001B[0m, in \u001B[0;36mModule._call_impl\u001B[0;34m(self, *args, **kwargs)\u001B[0m\n\u001B[1;32m   1742\u001B[0m \u001B[38;5;66;03m# If we don't have any hooks, we want to skip the rest of the logic in\u001B[39;00m\n\u001B[1;32m   1743\u001B[0m \u001B[38;5;66;03m# this function, and just call forward.\u001B[39;00m\n\u001B[1;32m   1744\u001B[0m \u001B[38;5;28;01mif\u001B[39;00m \u001B[38;5;129;01mnot\u001B[39;00m (\u001B[38;5;28mself\u001B[39m\u001B[38;5;241m.\u001B[39m_backward_hooks \u001B[38;5;129;01mor\u001B[39;00m \u001B[38;5;28mself\u001B[39m\u001B[38;5;241m.\u001B[39m_backward_pre_hooks \u001B[38;5;129;01mor\u001B[39;00m \u001B[38;5;28mself\u001B[39m\u001B[38;5;241m.\u001B[39m_forward_hooks \u001B[38;5;129;01mor\u001B[39;00m \u001B[38;5;28mself\u001B[39m\u001B[38;5;241m.\u001B[39m_forward_pre_hooks\n\u001B[1;32m   1745\u001B[0m         \u001B[38;5;129;01mor\u001B[39;00m _global_backward_pre_hooks \u001B[38;5;129;01mor\u001B[39;00m _global_backward_hooks\n\u001B[1;32m   1746\u001B[0m         \u001B[38;5;129;01mor\u001B[39;00m _global_forward_hooks \u001B[38;5;129;01mor\u001B[39;00m _global_forward_pre_hooks):\n\u001B[0;32m-> 1747\u001B[0m     \u001B[38;5;28;01mreturn\u001B[39;00m \u001B[43mforward_call\u001B[49m\u001B[43m(\u001B[49m\u001B[38;5;241;43m*\u001B[39;49m\u001B[43margs\u001B[49m\u001B[43m,\u001B[49m\u001B[43m \u001B[49m\u001B[38;5;241;43m*\u001B[39;49m\u001B[38;5;241;43m*\u001B[39;49m\u001B[43mkwargs\u001B[49m\u001B[43m)\u001B[49m\n\u001B[1;32m   1749\u001B[0m result \u001B[38;5;241m=\u001B[39m \u001B[38;5;28;01mNone\u001B[39;00m\n\u001B[1;32m   1750\u001B[0m called_always_called_hooks \u001B[38;5;241m=\u001B[39m \u001B[38;5;28mset\u001B[39m()\n",
      "Cell \u001B[0;32mIn[30], line 67\u001B[0m, in \u001B[0;36mDenseNet121UNet.forward\u001B[0;34m(self, input)\u001B[0m\n\u001B[1;32m     64\u001B[0m \u001B[38;5;28mprint\u001B[39m(\u001B[38;5;124mf\u001B[39m\u001B[38;5;124m\"\u001B[39m\u001B[38;5;124mup4: \u001B[39m\u001B[38;5;132;01m{\u001B[39;00mup4\u001B[38;5;241m.\u001B[39mshape\u001B[38;5;132;01m}\u001B[39;00m\u001B[38;5;124m\"\u001B[39m)\n\u001B[1;32m     65\u001B[0m \u001B[38;5;28mprint\u001B[39m(\u001B[38;5;124mf\u001B[39m\u001B[38;5;124m\"\u001B[39m\u001B[38;5;124mconcat4: \u001B[39m\u001B[38;5;132;01m{\u001B[39;00mconcat4\u001B[38;5;241m.\u001B[39mshape\u001B[38;5;132;01m}\u001B[39;00m\u001B[38;5;124m\"\u001B[39m)\n\u001B[0;32m---> 67\u001B[0m dec4 \u001B[38;5;241m=\u001B[39m \u001B[38;5;28;43mself\u001B[39;49m\u001B[38;5;241;43m.\u001B[39;49m\u001B[43mdec4\u001B[49m\u001B[43m(\u001B[49m\u001B[43mconcat4\u001B[49m\u001B[43m)\u001B[49m\n\u001B[1;32m     69\u001B[0m up3 \u001B[38;5;241m=\u001B[39m \u001B[38;5;28mself\u001B[39m\u001B[38;5;241m.\u001B[39mup3(dec4)\n\u001B[1;32m     70\u001B[0m concat3 \u001B[38;5;241m=\u001B[39m torch\u001B[38;5;241m.\u001B[39mcat([enc3, up3], dim\u001B[38;5;241m=\u001B[39m\u001B[38;5;241m1\u001B[39m)\n",
      "File \u001B[0;32m~/Ai/lib/python3.12/site-packages/torch/nn/modules/module.py:1736\u001B[0m, in \u001B[0;36mModule._wrapped_call_impl\u001B[0;34m(self, *args, **kwargs)\u001B[0m\n\u001B[1;32m   1734\u001B[0m     \u001B[38;5;28;01mreturn\u001B[39;00m \u001B[38;5;28mself\u001B[39m\u001B[38;5;241m.\u001B[39m_compiled_call_impl(\u001B[38;5;241m*\u001B[39margs, \u001B[38;5;241m*\u001B[39m\u001B[38;5;241m*\u001B[39mkwargs)  \u001B[38;5;66;03m# type: ignore[misc]\u001B[39;00m\n\u001B[1;32m   1735\u001B[0m \u001B[38;5;28;01melse\u001B[39;00m:\n\u001B[0;32m-> 1736\u001B[0m     \u001B[38;5;28;01mreturn\u001B[39;00m \u001B[38;5;28;43mself\u001B[39;49m\u001B[38;5;241;43m.\u001B[39;49m\u001B[43m_call_impl\u001B[49m\u001B[43m(\u001B[49m\u001B[38;5;241;43m*\u001B[39;49m\u001B[43margs\u001B[49m\u001B[43m,\u001B[49m\u001B[43m \u001B[49m\u001B[38;5;241;43m*\u001B[39;49m\u001B[38;5;241;43m*\u001B[39;49m\u001B[43mkwargs\u001B[49m\u001B[43m)\u001B[49m\n",
      "File \u001B[0;32m~/Ai/lib/python3.12/site-packages/torch/nn/modules/module.py:1747\u001B[0m, in \u001B[0;36mModule._call_impl\u001B[0;34m(self, *args, **kwargs)\u001B[0m\n\u001B[1;32m   1742\u001B[0m \u001B[38;5;66;03m# If we don't have any hooks, we want to skip the rest of the logic in\u001B[39;00m\n\u001B[1;32m   1743\u001B[0m \u001B[38;5;66;03m# this function, and just call forward.\u001B[39;00m\n\u001B[1;32m   1744\u001B[0m \u001B[38;5;28;01mif\u001B[39;00m \u001B[38;5;129;01mnot\u001B[39;00m (\u001B[38;5;28mself\u001B[39m\u001B[38;5;241m.\u001B[39m_backward_hooks \u001B[38;5;129;01mor\u001B[39;00m \u001B[38;5;28mself\u001B[39m\u001B[38;5;241m.\u001B[39m_backward_pre_hooks \u001B[38;5;129;01mor\u001B[39;00m \u001B[38;5;28mself\u001B[39m\u001B[38;5;241m.\u001B[39m_forward_hooks \u001B[38;5;129;01mor\u001B[39;00m \u001B[38;5;28mself\u001B[39m\u001B[38;5;241m.\u001B[39m_forward_pre_hooks\n\u001B[1;32m   1745\u001B[0m         \u001B[38;5;129;01mor\u001B[39;00m _global_backward_pre_hooks \u001B[38;5;129;01mor\u001B[39;00m _global_backward_hooks\n\u001B[1;32m   1746\u001B[0m         \u001B[38;5;129;01mor\u001B[39;00m _global_forward_hooks \u001B[38;5;129;01mor\u001B[39;00m _global_forward_pre_hooks):\n\u001B[0;32m-> 1747\u001B[0m     \u001B[38;5;28;01mreturn\u001B[39;00m \u001B[43mforward_call\u001B[49m\u001B[43m(\u001B[49m\u001B[38;5;241;43m*\u001B[39;49m\u001B[43margs\u001B[49m\u001B[43m,\u001B[49m\u001B[43m \u001B[49m\u001B[38;5;241;43m*\u001B[39;49m\u001B[38;5;241;43m*\u001B[39;49m\u001B[43mkwargs\u001B[49m\u001B[43m)\u001B[49m\n\u001B[1;32m   1749\u001B[0m result \u001B[38;5;241m=\u001B[39m \u001B[38;5;28;01mNone\u001B[39;00m\n\u001B[1;32m   1750\u001B[0m called_always_called_hooks \u001B[38;5;241m=\u001B[39m \u001B[38;5;28mset\u001B[39m()\n",
      "File \u001B[0;32m~/GoogleDrive/Python/Thermal-Image-Deep-Learning/src/networks.py:35\u001B[0m, in \u001B[0;36mDoubleConv.forward\u001B[0;34m(self, x)\u001B[0m\n\u001B[1;32m     34\u001B[0m \u001B[38;5;28;01mdef\u001B[39;00m \u001B[38;5;21mforward\u001B[39m(\u001B[38;5;28mself\u001B[39m, x: Tensor) \u001B[38;5;241m-\u001B[39m\u001B[38;5;241m>\u001B[39m Tensor:\n\u001B[0;32m---> 35\u001B[0m     x \u001B[38;5;241m=\u001B[39m \u001B[38;5;28;43mself\u001B[39;49m\u001B[38;5;241;43m.\u001B[39;49m\u001B[43mconv1\u001B[49m\u001B[43m(\u001B[49m\u001B[43mx\u001B[49m\u001B[43m)\u001B[49m\n\u001B[1;32m     36\u001B[0m     x \u001B[38;5;241m=\u001B[39m \u001B[38;5;28mself\u001B[39m\u001B[38;5;241m.\u001B[39mnorm(x)\n\u001B[1;32m     37\u001B[0m     x \u001B[38;5;241m=\u001B[39m \u001B[38;5;28mself\u001B[39m\u001B[38;5;241m.\u001B[39mactivation(x)\n",
      "File \u001B[0;32m~/Ai/lib/python3.12/site-packages/torch/nn/modules/module.py:1736\u001B[0m, in \u001B[0;36mModule._wrapped_call_impl\u001B[0;34m(self, *args, **kwargs)\u001B[0m\n\u001B[1;32m   1734\u001B[0m     \u001B[38;5;28;01mreturn\u001B[39;00m \u001B[38;5;28mself\u001B[39m\u001B[38;5;241m.\u001B[39m_compiled_call_impl(\u001B[38;5;241m*\u001B[39margs, \u001B[38;5;241m*\u001B[39m\u001B[38;5;241m*\u001B[39mkwargs)  \u001B[38;5;66;03m# type: ignore[misc]\u001B[39;00m\n\u001B[1;32m   1735\u001B[0m \u001B[38;5;28;01melse\u001B[39;00m:\n\u001B[0;32m-> 1736\u001B[0m     \u001B[38;5;28;01mreturn\u001B[39;00m \u001B[38;5;28;43mself\u001B[39;49m\u001B[38;5;241;43m.\u001B[39;49m\u001B[43m_call_impl\u001B[49m\u001B[43m(\u001B[49m\u001B[38;5;241;43m*\u001B[39;49m\u001B[43margs\u001B[49m\u001B[43m,\u001B[49m\u001B[43m \u001B[49m\u001B[38;5;241;43m*\u001B[39;49m\u001B[38;5;241;43m*\u001B[39;49m\u001B[43mkwargs\u001B[49m\u001B[43m)\u001B[49m\n",
      "File \u001B[0;32m~/Ai/lib/python3.12/site-packages/torch/nn/modules/module.py:1747\u001B[0m, in \u001B[0;36mModule._call_impl\u001B[0;34m(self, *args, **kwargs)\u001B[0m\n\u001B[1;32m   1742\u001B[0m \u001B[38;5;66;03m# If we don't have any hooks, we want to skip the rest of the logic in\u001B[39;00m\n\u001B[1;32m   1743\u001B[0m \u001B[38;5;66;03m# this function, and just call forward.\u001B[39;00m\n\u001B[1;32m   1744\u001B[0m \u001B[38;5;28;01mif\u001B[39;00m \u001B[38;5;129;01mnot\u001B[39;00m (\u001B[38;5;28mself\u001B[39m\u001B[38;5;241m.\u001B[39m_backward_hooks \u001B[38;5;129;01mor\u001B[39;00m \u001B[38;5;28mself\u001B[39m\u001B[38;5;241m.\u001B[39m_backward_pre_hooks \u001B[38;5;129;01mor\u001B[39;00m \u001B[38;5;28mself\u001B[39m\u001B[38;5;241m.\u001B[39m_forward_hooks \u001B[38;5;129;01mor\u001B[39;00m \u001B[38;5;28mself\u001B[39m\u001B[38;5;241m.\u001B[39m_forward_pre_hooks\n\u001B[1;32m   1745\u001B[0m         \u001B[38;5;129;01mor\u001B[39;00m _global_backward_pre_hooks \u001B[38;5;129;01mor\u001B[39;00m _global_backward_hooks\n\u001B[1;32m   1746\u001B[0m         \u001B[38;5;129;01mor\u001B[39;00m _global_forward_hooks \u001B[38;5;129;01mor\u001B[39;00m _global_forward_pre_hooks):\n\u001B[0;32m-> 1747\u001B[0m     \u001B[38;5;28;01mreturn\u001B[39;00m \u001B[43mforward_call\u001B[49m\u001B[43m(\u001B[49m\u001B[38;5;241;43m*\u001B[39;49m\u001B[43margs\u001B[49m\u001B[43m,\u001B[49m\u001B[43m \u001B[49m\u001B[38;5;241;43m*\u001B[39;49m\u001B[38;5;241;43m*\u001B[39;49m\u001B[43mkwargs\u001B[49m\u001B[43m)\u001B[49m\n\u001B[1;32m   1749\u001B[0m result \u001B[38;5;241m=\u001B[39m \u001B[38;5;28;01mNone\u001B[39;00m\n\u001B[1;32m   1750\u001B[0m called_always_called_hooks \u001B[38;5;241m=\u001B[39m \u001B[38;5;28mset\u001B[39m()\n",
      "File \u001B[0;32m~/Ai/lib/python3.12/site-packages/torch/nn/modules/conv.py:554\u001B[0m, in \u001B[0;36mConv2d.forward\u001B[0;34m(self, input)\u001B[0m\n\u001B[1;32m    553\u001B[0m \u001B[38;5;28;01mdef\u001B[39;00m \u001B[38;5;21mforward\u001B[39m(\u001B[38;5;28mself\u001B[39m, \u001B[38;5;28minput\u001B[39m: Tensor) \u001B[38;5;241m-\u001B[39m\u001B[38;5;241m>\u001B[39m Tensor:\n\u001B[0;32m--> 554\u001B[0m     \u001B[38;5;28;01mreturn\u001B[39;00m \u001B[38;5;28;43mself\u001B[39;49m\u001B[38;5;241;43m.\u001B[39;49m\u001B[43m_conv_forward\u001B[49m\u001B[43m(\u001B[49m\u001B[38;5;28;43minput\u001B[39;49m\u001B[43m,\u001B[49m\u001B[43m \u001B[49m\u001B[38;5;28;43mself\u001B[39;49m\u001B[38;5;241;43m.\u001B[39;49m\u001B[43mweight\u001B[49m\u001B[43m,\u001B[49m\u001B[43m \u001B[49m\u001B[38;5;28;43mself\u001B[39;49m\u001B[38;5;241;43m.\u001B[39;49m\u001B[43mbias\u001B[49m\u001B[43m)\u001B[49m\n",
      "File \u001B[0;32m~/Ai/lib/python3.12/site-packages/torch/nn/modules/conv.py:549\u001B[0m, in \u001B[0;36mConv2d._conv_forward\u001B[0;34m(self, input, weight, bias)\u001B[0m\n\u001B[1;32m    537\u001B[0m \u001B[38;5;28;01mif\u001B[39;00m \u001B[38;5;28mself\u001B[39m\u001B[38;5;241m.\u001B[39mpadding_mode \u001B[38;5;241m!=\u001B[39m \u001B[38;5;124m\"\u001B[39m\u001B[38;5;124mzeros\u001B[39m\u001B[38;5;124m\"\u001B[39m:\n\u001B[1;32m    538\u001B[0m     \u001B[38;5;28;01mreturn\u001B[39;00m F\u001B[38;5;241m.\u001B[39mconv2d(\n\u001B[1;32m    539\u001B[0m         F\u001B[38;5;241m.\u001B[39mpad(\n\u001B[1;32m    540\u001B[0m             \u001B[38;5;28minput\u001B[39m, \u001B[38;5;28mself\u001B[39m\u001B[38;5;241m.\u001B[39m_reversed_padding_repeated_twice, mode\u001B[38;5;241m=\u001B[39m\u001B[38;5;28mself\u001B[39m\u001B[38;5;241m.\u001B[39mpadding_mode\n\u001B[0;32m   (...)\u001B[0m\n\u001B[1;32m    547\u001B[0m         \u001B[38;5;28mself\u001B[39m\u001B[38;5;241m.\u001B[39mgroups,\n\u001B[1;32m    548\u001B[0m     )\n\u001B[0;32m--> 549\u001B[0m \u001B[38;5;28;01mreturn\u001B[39;00m \u001B[43mF\u001B[49m\u001B[38;5;241;43m.\u001B[39;49m\u001B[43mconv2d\u001B[49m\u001B[43m(\u001B[49m\n\u001B[1;32m    550\u001B[0m \u001B[43m    \u001B[49m\u001B[38;5;28;43minput\u001B[39;49m\u001B[43m,\u001B[49m\u001B[43m \u001B[49m\u001B[43mweight\u001B[49m\u001B[43m,\u001B[49m\u001B[43m \u001B[49m\u001B[43mbias\u001B[49m\u001B[43m,\u001B[49m\u001B[43m \u001B[49m\u001B[38;5;28;43mself\u001B[39;49m\u001B[38;5;241;43m.\u001B[39;49m\u001B[43mstride\u001B[49m\u001B[43m,\u001B[49m\u001B[43m \u001B[49m\u001B[38;5;28;43mself\u001B[39;49m\u001B[38;5;241;43m.\u001B[39;49m\u001B[43mpadding\u001B[49m\u001B[43m,\u001B[49m\u001B[43m \u001B[49m\u001B[38;5;28;43mself\u001B[39;49m\u001B[38;5;241;43m.\u001B[39;49m\u001B[43mdilation\u001B[49m\u001B[43m,\u001B[49m\u001B[43m \u001B[49m\u001B[38;5;28;43mself\u001B[39;49m\u001B[38;5;241;43m.\u001B[39;49m\u001B[43mgroups\u001B[49m\n\u001B[1;32m    551\u001B[0m \u001B[43m\u001B[49m\u001B[43m)\u001B[49m\n",
      "\u001B[0;31mRuntimeError\u001B[0m: Given groups=1, weight of size [512, 1024, 3, 3], expected input[1, 1536, 16, 16] to have 1024 channels, but got 1536 channels instead"
     ]
    }
   ],
   "execution_count": 31
  },
  {
   "metadata": {
    "ExecuteTime": {
     "end_time": "2025-01-02T16:38:44.101916Z",
     "start_time": "2025-01-02T16:38:44.095529Z"
    }
   },
   "cell_type": "code",
   "source": [
    "class UNetRegressor(nn.Module):\n",
    "    def __init__(self, init_features: int = 64) -> None:\n",
    "        super().__init__()\n",
    "\n",
    "        # Encoder (Contracting Path)\n",
    "        self.enc1 = DoubleConv(3, init_features)\n",
    "        self.enc2 = DoubleConv(init_features, init_features * 2)\n",
    "        self.enc3 = DoubleConv(init_features * 2, init_features * 4)\n",
    "        self.enc4 = DoubleConv(init_features * 4, init_features * 8)\n",
    "        self.enc5 = DoubleConv(init_features * 8, init_features * 16)\n",
    "\n",
    "        # Decoder (Expanding Path)\n",
    "        self.up4 = nn.ConvTranspose2d(init_features * 16, init_features * 8, kernel_size=2,\n",
    "                                      stride=2)\n",
    "        self.dec4 = DoubleConv(init_features * 16, init_features * 8)\n",
    "\n",
    "        self.up3 = nn.ConvTranspose2d(init_features * 8, init_features * 4, kernel_size=2, stride=2)\n",
    "        self.dec3 = DoubleConv(init_features * 8, init_features * 4)\n",
    "\n",
    "        self.up2 = nn.ConvTranspose2d(init_features * 4, init_features * 2, kernel_size=2, stride=2)\n",
    "        self.dec2 = DoubleConv(init_features * 4, init_features * 2)\n",
    "\n",
    "        self.up1 = nn.ConvTranspose2d(init_features * 2, init_features, kernel_size=2, stride=2)\n",
    "        self.dec1 = DoubleConv(init_features * 2, init_features)\n",
    "\n",
    "        self.final_conv = nn.Conv2d(init_features, 3, kernel_size=1)\n",
    "\n",
    "        self.pool = nn.MaxPool2d(2)\n",
    "\n",
    "    def forward(self, x: torch.Tensor) -> torch.Tensor:\n",
    "        # Encoder\n",
    "        enc1 = self.enc1(x)\n",
    "        pool1 = self.pool(enc1)\n",
    "\n",
    "        print(f\"enc1: {enc1.shape}\")\n",
    "        print(f\"pool1: {pool1.shape}\")\n",
    "\n",
    "        enc2 = self.enc2(pool1)\n",
    "        pool2 = self.pool(enc2)\n",
    "\n",
    "        print(f\"enc2: {enc2.shape}\")\n",
    "        print(f\"pool2: {pool2.shape}\")\n",
    "\n",
    "        enc3 = self.enc3(pool2)\n",
    "        pool3 = self.pool(enc3)\n",
    "\n",
    "        print(f\"enc3: {enc3.shape}\")\n",
    "        print(f\"pool3: {pool3.shape}\")\n",
    "\n",
    "        enc4 = self.enc4(pool3)\n",
    "        pool4 = self.pool(enc4)\n",
    "\n",
    "        print(f\"enc4: {enc4.shape}\")\n",
    "        print(f\"pool4: {pool4.shape}\")\n",
    "\n",
    "        # Bridge\n",
    "        enc5 = self.enc5(pool4)\n",
    "\n",
    "        print(f\"enc5: {enc5.shape}\")\n",
    "\n",
    "        # Decoder\n",
    "        up4 = self.up4(enc5)\n",
    "        concat4 = torch.cat([enc4, up4], dim=1)\n",
    "        dec4 = self.dec4(concat4)\n",
    "\n",
    "        up3 = self.up3(dec4)\n",
    "        concat3 = torch.cat([enc3, up3], dim=1)\n",
    "        dec3 = self.dec3(concat3)\n",
    "\n",
    "        up2 = self.up2(dec3)\n",
    "        concat2 = torch.cat([enc2, up2], dim=1)\n",
    "        dec2 = self.dec2(concat2)\n",
    "\n",
    "        up1 = self.up1(dec2)\n",
    "        concat1 = torch.cat([enc1, up1], dim=1)\n",
    "        dec1 = self.dec1(concat1)\n",
    "\n",
    "        return nn.functional.tanh(self.final_conv(dec1))"
   ],
   "id": "8df33fd8e88f0787",
   "outputs": [],
   "execution_count": 18
  },
  {
   "metadata": {
    "ExecuteTime": {
     "end_time": "2025-01-02T16:38:45.344266Z",
     "start_time": "2025-01-02T16:38:44.995537Z"
    }
   },
   "cell_type": "code",
   "source": [
    "model = UNetRegressor()\n",
    "input = torch.randn(1, 3, 256, 256)\n",
    "output = model(input)\n",
    "\n",
    "print(output.shape)"
   ],
   "id": "d22c17e2f2839c26",
   "outputs": [
    {
     "name": "stdout",
     "output_type": "stream",
     "text": [
      "down1: torch.Size([1, 64, 256, 256])\n",
      "pool1: torch.Size([1, 64, 128, 128])\n",
      "down2: torch.Size([1, 128, 128, 128])\n",
      "pool2: torch.Size([1, 128, 64, 64])\n",
      "down3: torch.Size([1, 256, 64, 64])\n",
      "pool3: torch.Size([1, 256, 32, 32])\n",
      "down4: torch.Size([1, 512, 32, 32])\n",
      "pool4: torch.Size([1, 512, 16, 16])\n",
      "down5: torch.Size([1, 1024, 16, 16])\n",
      "torch.Size([1, 3, 256, 256])\n"
     ]
    }
   ],
   "execution_count": 19
  },
  {
   "metadata": {},
   "cell_type": "code",
   "outputs": [],
   "execution_count": null,
   "source": "",
   "id": "25f6ace89e9c54d5"
  }
 ],
 "metadata": {
  "kernelspec": {
   "display_name": "Python 3",
   "language": "python",
   "name": "python3"
  },
  "language_info": {
   "codemirror_mode": {
    "name": "ipython",
    "version": 2
   },
   "file_extension": ".py",
   "mimetype": "text/x-python",
   "name": "python",
   "nbconvert_exporter": "python",
   "pygments_lexer": "ipython2",
   "version": "2.7.6"
  }
 },
 "nbformat": 4,
 "nbformat_minor": 5
}
